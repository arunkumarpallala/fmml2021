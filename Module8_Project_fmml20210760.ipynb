{
  "nbformat": 4,
  "nbformat_minor": 0,
  "metadata": {
    "colab": {
      "name": "Module8_Project_fmml20210760.ipynb",
      "provenance": [],
      "authorship_tag": "ABX9TyN3ruaP1UNHxRVcNihYNIpr",
      "include_colab_link": true
    },
    "kernelspec": {
      "name": "python3",
      "display_name": "Python 3"
    },
    "language_info": {
      "name": "python"
    }
  },
  "cells": [
    {
      "cell_type": "markdown",
      "metadata": {
        "id": "view-in-github",
        "colab_type": "text"
      },
      "source": [
        "<a href=\"https://colab.research.google.com/github/arunkumarpallala/fmml2021/blob/main/Module8_Project_fmml20210760.ipynb\" target=\"_parent\"><img src=\"https://colab.research.google.com/assets/colab-badge.svg\" alt=\"Open In Colab\"/></a>"
      ]
    },
    {
      "cell_type": "code",
      "execution_count": 16,
      "metadata": {
        "id": "ibKetReeKcS6"
      },
      "outputs": [],
      "source": [
        "import numpy as np\n",
        "import re\n",
        "from collections import defaultdict\n",
        "from os import stat\n",
        "import typing\n",
        "import pandas as pd\n",
        "\n"
      ]
    },
    {
      "cell_type": "code",
      "source": [
        "!pip3 install PyPDF2\n",
        "#from PyPDF2 import PDFDocument, SimplePDFViewer, document"
      ],
      "metadata": {
        "colab": {
          "base_uri": "https://localhost:8080/"
        },
        "id": "iHLNXPY6PaM_",
        "outputId": "93429ed3-c8dd-4be9-e968-f0464908c1cc"
      },
      "execution_count": 18,
      "outputs": [
        {
          "output_type": "stream",
          "name": "stdout",
          "text": [
            "Looking in indexes: https://pypi.org/simple, https://us-python.pkg.dev/colab-wheels/public/simple/\n",
            "Requirement already satisfied: PyPDF2 in /usr/local/lib/python3.7/dist-packages (2.2.1)\n",
            "Requirement already satisfied: typing-extensions in /usr/local/lib/python3.7/dist-packages (from PyPDF2) (4.2.0)\n"
          ]
        }
      ]
    },
    {
      "cell_type": "code",
      "source": [
        "from PyPDF2 import PdfFileReader, PdfFileWriter"
      ],
      "metadata": {
        "id": "xbLr7qfkQC35"
      },
      "execution_count": 19,
      "outputs": []
    },
    {
      "cell_type": "code",
      "source": [
        "!pip install pdfreader"
      ],
      "metadata": {
        "id": "3NoxgaE6VtNl"
      },
      "execution_count": null,
      "outputs": []
    },
    {
      "cell_type": "code",
      "source": [
        "from pdfreader import PDFDocument, SimplePDFViewer, document"
      ],
      "metadata": {
        "id": "1SEVD50VVx4t"
      },
      "execution_count": 40,
      "outputs": []
    },
    {
      "cell_type": "code",
      "source": [
        "#BagofWords\n",
        "class BagOfWords:\n",
        "    \"\"\"\n",
        "    A type of encoder, makes\n",
        "    \"\"\"\n",
        "\n",
        "    def __init__(self, data: typing.Iterable) -> None:\n",
        "        \"\"\"\n",
        "        Generate the bag of words\n",
        "        :param data: an array of words, or an iterable containing arrays of words\n",
        "        \"\"\"\n",
        "        data = np.array(self.__linearize_array(data))\n",
        "        self.index_to_words = np.unique(data)\n",
        "        self.words_to_index = {w: i for i, w in enumerate(self.index_to_words)}\n",
        "\n",
        "    @classmethod\n",
        "    def __linearize_array(cls, text):\n",
        "        x = []\n",
        "        for item in text:\n",
        "            if isinstance(item, str):\n",
        "                x.append(item)\n",
        "            else:\n",
        "                x.extend(cls.__linearize_array(item))\n",
        "        return x\n",
        "\n",
        "    def __call__(self, text: typing.Iterable[str]) -> np.array:\n",
        "        return self.get_counts(text)\n",
        "\n",
        "    def __len__(self) -> int:\n",
        "        return len(self.index_to_words)\n",
        "\n",
        "    def encode_data(\n",
        "        self: \"BagOfWords\",\n",
        "        text: typing.Union[typing.Iterable[str], typing.Iterable[typing.Iterable[str]]],\n",
        "    ) -> np.array:\n",
        "        \"\"\"\n",
        "        Compute the encodings of words in a new input tokenized string\n",
        "        \"\"\"\n",
        "        x = []\n",
        "        for item in text:\n",
        "            if isinstance(item, str):\n",
        "                if item in self.words_to_index:\n",
        "                    x.append(self.words_to_index[item])\n",
        "            else:\n",
        "                x.append(self.encode_data(item))\n",
        "        return x\n",
        "\n",
        "    def decode_data(self: \"BagOfWords\", encoded_text: typing.Iterable[int]):\n",
        "        if isinstance(encoded_text, int) or isinstance(encoded_text, np.int64):\n",
        "            return self.index_to_words[encoded_text]\n",
        "        else:\n",
        "            return list(map(self.decode_data, encoded_text))\n",
        "\n",
        "    def get_counts(\n",
        "        self: \"BagOfWords\",\n",
        "        text: typing.Union[typing.Iterable[str], typing.Iterable[typing.Iterable[str]]],\n",
        "    ):\n",
        "        \"\"\"\n",
        "        Computes the counts of words in a new input tokenized string\n",
        "        \"\"\"\n",
        "        if len(text) == 0 or isinstance(text[0], str):\n",
        "            x = np.zeros(shape=len(self))\n",
        "            for word in text:\n",
        "                if word in self.words_to_index:\n",
        "                    x[self.words_to_index[word]] += 1\n",
        "            return x\n",
        "        else:\n",
        "            return np.stack([self.get_counts(item) for item in text], axis=0)"
      ],
      "metadata": {
        "id": "mmnE95wALTGb"
      },
      "execution_count": 4,
      "outputs": []
    },
    {
      "cell_type": "code",
      "source": [
        "#Encoder\n",
        "class LabelEncoder:\n",
        "    \"\"\"\n",
        "    Label encode a series of labels\n",
        "    \"\"\"\n",
        "\n",
        "    def __init__(self, data) -> None:\n",
        "        self.__training_data = data\n",
        "        self.index_to_token = list(set(data))\n",
        "        self.token_to_index = {\n",
        "            token: index for index, token in enumerate(self.index_to_token)\n",
        "        }\n",
        "\n",
        "    def __len__(self):\n",
        "        return len(self.token_to_index)\n",
        "\n",
        "    @property\n",
        "    def encoded_data(self):\n",
        "        return np.array([self.token_to_index[token] for token in self.__training_data])\n",
        "\n",
        "    def encode(self, data):\n",
        "        return np.array([self.token_to_index[token] for token in data])\n",
        "\n",
        "    def decode(self, data):\n",
        "        if isinstance(data, int) or isinstance(data, np.int64):\n",
        "            return self.index_to_token[data]\n",
        "        else:\n",
        "            return np.array([self.index_to_token[index] for index in data])"
      ],
      "metadata": {
        "id": "B90TZQPWLXS_"
      },
      "execution_count": 5,
      "outputs": []
    },
    {
      "cell_type": "code",
      "source": [
        "#Model\n",
        "\n",
        "class BayesianMulticlassModel:\n",
        "    \"\"\"\n",
        "    A multi-class bayesian classfier from encoded text tokens\n",
        "    \"\"\"\n",
        "\n",
        "    def __init__(self, num_classes, num_tokens) -> None:\n",
        "        self.counts = np.zeros(shape=(num_classes, num_tokens))\n",
        "\n",
        "    def fit(self, x_train: typing.Iterable[np.ndarray], y_train: typing.Iterable[int]):\n",
        "        for x, y in zip(x_train, y_train):\n",
        "          self.counts[y] += x\n",
        "\n",
        "    def predict(self, counts_vector):\n",
        "        class_frequencies = np.sum(self.counts, axis=1)\n",
        "        word_frequencies = np.sum(self.counts, axis=0)\n",
        "\n",
        "        prior = class_frequencies / np.sum(class_frequencies)  # p(label)\n",
        "        likelihood = self.counts / np.expand_dims(\n",
        "            class_frequencies, axis=1\n",
        "        )  # p(word|label)\n",
        "        evidence = word_frequencies / np.sum(word_frequencies)  # p(word)\n",
        "\n",
        "        likelihood = np.multiply(likelihood, counts_vector)\n",
        "        prior = np.expand_dims(prior, axis=1)\n",
        "\n",
        "        posterior_marginal = prior * likelihood / evidence + 0.00001\n",
        "        posterior_joint = np.sum(np.log(posterior_marginal), axis=1)\n",
        "        return np.flip(np.argsort(posterior_joint))"
      ],
      "metadata": {
        "id": "uDuplwgnLoL-"
      },
      "execution_count": 10,
      "outputs": []
    },
    {
      "cell_type": "code",
      "source": [
        "#explainer\n",
        "class BayesianModelExplainer(BayesianMulticlassModel):\n",
        "    \"\"\"\n",
        "    Explainer of the decision made by the base model\n",
        "    \"\"\"\n",
        "\n",
        "    def __init__(self, label_encoder: LabelEncoder, bag_of_words: BagOfWords) -> None:\n",
        "        super().__init__(len(label_encoder), len(bag_of_words))\n",
        "        self.bag_of_words = bag_of_words\n",
        "        self.label_encoder = label_encoder\n",
        "\n",
        "    def explain(self, text=None, label_filter=None):\n",
        "        \"\"\"\n",
        "        Visualize what are the prior probabilities of classes and which words\n",
        "        add the the likelihood of each class.\n",
        "        \"\"\"\n",
        "        class_frequencies = np.sum(self.counts, axis=1)\n",
        "        word_frequencies = np.sum(self.counts, axis=0)\n",
        "\n",
        "        prior = class_frequencies / np.sum(class_frequencies)  # p(label)\n",
        "        likelihood = self.counts / np.expand_dims(\n",
        "            class_frequencies, axis=1\n",
        "        )  # p(word|label)\n",
        "        evidence = word_frequencies / np.sum(word_frequencies)  # p(word)\n",
        "\n",
        "        if text is not None:\n",
        "            counts_vector = self.bag_of_words.get_counts(text)\n",
        "            likelihood = np.multiply(likelihood, counts_vector)\n",
        "\n",
        "        prior_ordering = np.flip(np.argsort(prior))\n",
        "        for item in prior_ordering:\n",
        "            likelihood = likelihood / (evidence + 0.00001)\n",
        "            label = self.label_encoder.decode(item)\n",
        "            word_ids = np.flip(np.argsort(likelihood[item]))\n",
        "            word_ids = word_ids[:10]\n",
        "            if label_filter is None or label in label_filter:\n",
        "                print(f\"{label}: {' '.join(self.bag_of_words.decode_data(word_ids))}\")"
      ],
      "metadata": {
        "id": "vmD-Vv3KLc5y"
      },
      "execution_count": 11,
      "outputs": []
    },
    {
      "cell_type": "code",
      "source": [
        "#Threshould\n",
        "WORD_LENGTH_THRESHOLD = 2\n",
        "WORD_COUNT_THRESHOLD = 1"
      ],
      "metadata": {
        "id": "uPGTce9CLjds"
      },
      "execution_count": 12,
      "outputs": []
    },
    {
      "cell_type": "code",
      "source": [
        "##Utils\n",
        "\n",
        "def clean_text(text: str):\n",
        "    \"\"\"\n",
        "    Given text it removes all the non-character words, small words,\n",
        "    converts everything to small letters, tokenizes and returns as a list.\n",
        "    :param text: The text to be cleaned\n",
        "    \"\"\"\n",
        "    text = text.lower()\n",
        "    text = re.sub(\"[^a-z]\", \" \", text)\n",
        "    data = text.split()\n",
        "    data = list(filter(lambda x: len(x) >= WORD_LENGTH_THRESHOLD, data))\n",
        "    return data\n",
        "\n",
        "\n",
        "def parse_pdf(filename: str):\n",
        "    \"\"\"\n",
        "    Read text from a PDF file.\n",
        "    Clean the text, tokenize it, and return as a list of tokens.\n",
        "    :param :\n",
        "    \"\"\"\n",
        "    fd = open(filename, \"rb\")\n",
        "    document = PDFDocument(fd)\n",
        "    viewer = SimplePDFViewer(fd)\n",
        "    output_strings = []\n",
        "    for i in range(len(list(document.pages()))):\n",
        "        viewer.navigate(1)\n",
        "        viewer.render()\n",
        "        output_strings.extend(viewer.canvas.strings)\n",
        "    file_contents = \" \".join(output_strings)\n",
        "    document.close()\n",
        "    viewer.close()\n",
        "    return clean_text(file_contents)\n",
        "\n",
        "\n",
        "def parse_resume_df():\n",
        "    resume_df = pd.read_csv(\"/content/resume-dataset.csv\")\n",
        "    resume_df[\"Keywords\"] = resume_df[\"Resume\"].apply(clean_text)\n",
        "    return resume_df[\"Keywords\"].values, resume_df[\"Category\"].values"
      ],
      "metadata": {
        "id": "n7pGOcauLsrk"
      },
      "execution_count": 44,
      "outputs": []
    },
    {
      "cell_type": "code",
      "source": [
        "if __name__ == \"__main__\":\n",
        "    x_train, y_train = parse_resume_df()\n",
        "    bag_of_words = BagOfWords(x_train)\n",
        "    label_encoder = LabelEncoder(y_train)\n",
        "\n",
        "    x_train = bag_of_words.get_counts(x_train)\n",
        "    y_train = label_encoder.encode(y_train)\n",
        "    model = BayesianMulticlassModel(len(label_encoder), len(bag_of_words))\n",
        "    model.fit(x_train=x_train, y_train=y_train)\n",
        "\n",
        "    x_test_input = parse_pdf(\"/content/computers_2.pdf\")\n",
        "    x_test = bag_of_words.get_counts(x_test_input)\n",
        "    result = model.predict(x_train[0])\n",
        "    result = label_encoder.decode(result)\n",
        "\n",
        "    for job in result[:5]:\n",
        "        print(job)\n",
        "\n",
        "    explainable_model = BayesianModelExplainer(label_encoder, bag_of_words)\n",
        "    explainable_model.fit(x_train=x_train, y_train=y_train)\n",
        "\n",
        "    print(\n",
        "        \"\"\"\n",
        "ANALYSIS OF TRAINED PRIOR\n",
        "-------------------------\"\"\"\n",
        "    )\n",
        "    explainable_model.explain()\n",
        "\n",
        "    print(\n",
        "        \"\"\"\n",
        "ANALYSIS OF TRAINED EVIDENCE\n",
        "----------------------------\"\"\"\n",
        "    )\n",
        "    explainable_model.explain(x_test_input)"
      ],
      "metadata": {
        "colab": {
          "base_uri": "https://localhost:8080/",
          "height": 380
        },
        "id": "sSZS0IKKNiTa",
        "outputId": "e377c601-8855-4152-f1d4-e2132b0ebdd4"
      },
      "execution_count": 45,
      "outputs": [
        {
          "output_type": "error",
          "ename": "ParserException",
          "evalue": "ignored",
          "traceback": [
            "\u001b[0;31m---------------------------------------------------------------------------\u001b[0m",
            "\u001b[0;31mParserException\u001b[0m                           Traceback (most recent call last)",
            "\u001b[0;32m<ipython-input-45-aca2cdb31b22>\u001b[0m in \u001b[0;36m<module>\u001b[0;34m()\u001b[0m\n\u001b[1;32m      9\u001b[0m     \u001b[0mmodel\u001b[0m\u001b[0;34m.\u001b[0m\u001b[0mfit\u001b[0m\u001b[0;34m(\u001b[0m\u001b[0mx_train\u001b[0m\u001b[0;34m=\u001b[0m\u001b[0mx_train\u001b[0m\u001b[0;34m,\u001b[0m \u001b[0my_train\u001b[0m\u001b[0;34m=\u001b[0m\u001b[0my_train\u001b[0m\u001b[0;34m)\u001b[0m\u001b[0;34m\u001b[0m\u001b[0;34m\u001b[0m\u001b[0m\n\u001b[1;32m     10\u001b[0m \u001b[0;34m\u001b[0m\u001b[0m\n\u001b[0;32m---> 11\u001b[0;31m     \u001b[0mx_test_input\u001b[0m \u001b[0;34m=\u001b[0m \u001b[0mparse_pdf\u001b[0m\u001b[0;34m(\u001b[0m\u001b[0;34m\"/content/computers_2.pdf\"\u001b[0m\u001b[0;34m)\u001b[0m\u001b[0;34m\u001b[0m\u001b[0;34m\u001b[0m\u001b[0m\n\u001b[0m\u001b[1;32m     12\u001b[0m     \u001b[0mx_test\u001b[0m \u001b[0;34m=\u001b[0m \u001b[0mbag_of_words\u001b[0m\u001b[0;34m.\u001b[0m\u001b[0mget_counts\u001b[0m\u001b[0;34m(\u001b[0m\u001b[0mx_test_input\u001b[0m\u001b[0;34m)\u001b[0m\u001b[0;34m\u001b[0m\u001b[0;34m\u001b[0m\u001b[0m\n\u001b[1;32m     13\u001b[0m     \u001b[0mresult\u001b[0m \u001b[0;34m=\u001b[0m \u001b[0mmodel\u001b[0m\u001b[0;34m.\u001b[0m\u001b[0mpredict\u001b[0m\u001b[0;34m(\u001b[0m\u001b[0mx_train\u001b[0m\u001b[0;34m[\u001b[0m\u001b[0;36m0\u001b[0m\u001b[0;34m]\u001b[0m\u001b[0;34m)\u001b[0m\u001b[0;34m\u001b[0m\u001b[0;34m\u001b[0m\u001b[0m\n",
            "\u001b[0;32m<ipython-input-44-bccb1333f8d4>\u001b[0m in \u001b[0;36mparse_pdf\u001b[0;34m(filename)\u001b[0m\n\u001b[1;32m     21\u001b[0m     \"\"\"\n\u001b[1;32m     22\u001b[0m     \u001b[0mfd\u001b[0m \u001b[0;34m=\u001b[0m \u001b[0mopen\u001b[0m\u001b[0;34m(\u001b[0m\u001b[0mfilename\u001b[0m\u001b[0;34m,\u001b[0m \u001b[0;34m\"rb\"\u001b[0m\u001b[0;34m)\u001b[0m\u001b[0;34m\u001b[0m\u001b[0;34m\u001b[0m\u001b[0m\n\u001b[0;32m---> 23\u001b[0;31m     \u001b[0mdocument\u001b[0m \u001b[0;34m=\u001b[0m \u001b[0mPDFDocument\u001b[0m\u001b[0;34m(\u001b[0m\u001b[0mfd\u001b[0m\u001b[0;34m)\u001b[0m\u001b[0;34m\u001b[0m\u001b[0;34m\u001b[0m\u001b[0m\n\u001b[0m\u001b[1;32m     24\u001b[0m     \u001b[0mviewer\u001b[0m \u001b[0;34m=\u001b[0m \u001b[0mSimplePDFViewer\u001b[0m\u001b[0;34m(\u001b[0m\u001b[0mfd\u001b[0m\u001b[0;34m)\u001b[0m\u001b[0;34m\u001b[0m\u001b[0;34m\u001b[0m\u001b[0m\n\u001b[1;32m     25\u001b[0m     \u001b[0moutput_strings\u001b[0m \u001b[0;34m=\u001b[0m \u001b[0;34m[\u001b[0m\u001b[0;34m]\u001b[0m\u001b[0;34m\u001b[0m\u001b[0;34m\u001b[0m\u001b[0m\n",
            "\u001b[0;32m/usr/local/lib/python3.7/dist-packages/pdfreader/document.py\u001b[0m in \u001b[0;36m__init__\u001b[0;34m(self, fobj, password)\u001b[0m\n\u001b[1;32m     29\u001b[0m         \u001b[0mself\u001b[0m\u001b[0;34m.\u001b[0m\u001b[0mregistry\u001b[0m \u001b[0;34m=\u001b[0m \u001b[0mRegistry\u001b[0m\u001b[0;34m(\u001b[0m\u001b[0;34m)\u001b[0m\u001b[0;34m\u001b[0m\u001b[0;34m\u001b[0m\u001b[0m\n\u001b[1;32m     30\u001b[0m \u001b[0;34m\u001b[0m\u001b[0m\n\u001b[0;32m---> 31\u001b[0;31m         \u001b[0mself\u001b[0m\u001b[0;34m.\u001b[0m\u001b[0mparser\u001b[0m \u001b[0;34m=\u001b[0m \u001b[0mRegistryPDFParser\u001b[0m\u001b[0;34m(\u001b[0m\u001b[0mfobj\u001b[0m\u001b[0;34m,\u001b[0m \u001b[0mself\u001b[0m\u001b[0;34m.\u001b[0m\u001b[0mregistry\u001b[0m\u001b[0;34m)\u001b[0m\u001b[0;34m\u001b[0m\u001b[0;34m\u001b[0m\u001b[0m\n\u001b[0m\u001b[1;32m     32\u001b[0m         \u001b[0mself\u001b[0m\u001b[0;34m.\u001b[0m\u001b[0mheader\u001b[0m \u001b[0;34m=\u001b[0m \u001b[0mself\u001b[0m\u001b[0;34m.\u001b[0m\u001b[0mparser\u001b[0m\u001b[0;34m.\u001b[0m\u001b[0mheader\u001b[0m\u001b[0;34m\u001b[0m\u001b[0;34m\u001b[0m\u001b[0m\n\u001b[1;32m     33\u001b[0m         \u001b[0mself\u001b[0m\u001b[0;34m.\u001b[0m\u001b[0mtrailer\u001b[0m \u001b[0;34m=\u001b[0m \u001b[0mself\u001b[0m\u001b[0;34m.\u001b[0m\u001b[0mparser\u001b[0m\u001b[0;34m.\u001b[0m\u001b[0mtrailer\u001b[0m\u001b[0;34m\u001b[0m\u001b[0;34m\u001b[0m\u001b[0m\n",
            "\u001b[0;32m/usr/local/lib/python3.7/dist-packages/pdfreader/parsers/document.py\u001b[0m in \u001b[0;36m__init__\u001b[0;34m(self, fileobj, registry, security_handler)\u001b[0m\n\u001b[1;32m    416\u001b[0m         \u001b[0mself\u001b[0m\u001b[0;34m.\u001b[0m\u001b[0mregistry\u001b[0m \u001b[0;34m=\u001b[0m \u001b[0mregistry\u001b[0m\u001b[0;34m\u001b[0m\u001b[0;34m\u001b[0m\u001b[0m\n\u001b[1;32m    417\u001b[0m         \u001b[0mself\u001b[0m\u001b[0;34m.\u001b[0m\u001b[0msecurity_handler\u001b[0m \u001b[0;34m=\u001b[0m \u001b[0msecurity_handler\u001b[0m\u001b[0;34m\u001b[0m\u001b[0;34m\u001b[0m\u001b[0m\n\u001b[0;32m--> 418\u001b[0;31m         \u001b[0mself\u001b[0m\u001b[0;34m.\u001b[0m\u001b[0mheader\u001b[0m \u001b[0;34m=\u001b[0m \u001b[0mself\u001b[0m\u001b[0;34m.\u001b[0m\u001b[0mpdf_header\u001b[0m\u001b[0;34m(\u001b[0m\u001b[0;34m)\u001b[0m\u001b[0;34m\u001b[0m\u001b[0;34m\u001b[0m\u001b[0m\n\u001b[0m\u001b[1;32m    419\u001b[0m         \u001b[0mself\u001b[0m\u001b[0;34m.\u001b[0m\u001b[0mtrailer\u001b[0m \u001b[0;34m=\u001b[0m \u001b[0mself\u001b[0m\u001b[0;34m.\u001b[0m\u001b[0mpdf_trailer\u001b[0m\u001b[0;34m(\u001b[0m\u001b[0;34m)\u001b[0m\u001b[0;34m\u001b[0m\u001b[0;34m\u001b[0m\u001b[0m\n\u001b[1;32m    420\u001b[0m         \u001b[0mself\u001b[0m\u001b[0;34m.\u001b[0m\u001b[0mreset\u001b[0m\u001b[0;34m(\u001b[0m\u001b[0mself\u001b[0m\u001b[0;34m.\u001b[0m\u001b[0mheader\u001b[0m\u001b[0;34m.\u001b[0m\u001b[0moffset\u001b[0m\u001b[0;34m)\u001b[0m\u001b[0;34m\u001b[0m\u001b[0;34m\u001b[0m\u001b[0m\n",
            "\u001b[0;32m/usr/local/lib/python3.7/dist-packages/pdfreader/parsers/document.py\u001b[0m in \u001b[0;36mpdf_header\u001b[0;34m(self)\u001b[0m\n\u001b[1;32m    151\u001b[0m \u001b[0;34m\u001b[0m\u001b[0m\n\u001b[1;32m    152\u001b[0m         \u001b[0;32mif\u001b[0m \u001b[0mm\u001b[0m \u001b[0;32mis\u001b[0m \u001b[0;32mNone\u001b[0m\u001b[0;34m:\u001b[0m\u001b[0;34m\u001b[0m\u001b[0;34m\u001b[0m\u001b[0m\n\u001b[0;32m--> 153\u001b[0;31m             \u001b[0mself\u001b[0m\u001b[0;34m.\u001b[0m\u001b[0mon_parser_error\u001b[0m\u001b[0;34m(\u001b[0m\u001b[0;34m\"No PDF header found\"\u001b[0m\u001b[0;34m)\u001b[0m\u001b[0;34m\u001b[0m\u001b[0;34m\u001b[0m\u001b[0m\n\u001b[0m\u001b[1;32m    154\u001b[0m \u001b[0;34m\u001b[0m\u001b[0m\n\u001b[1;32m    155\u001b[0m         \u001b[0;31m# return current to the beginning of the header\u001b[0m\u001b[0;34m\u001b[0m\u001b[0;34m\u001b[0m\u001b[0;34m\u001b[0m\u001b[0m\n",
            "\u001b[0;32m/usr/local/lib/python3.7/dist-packages/pdfreader/parsers/base.py\u001b[0m in \u001b[0;36mon_parser_error\u001b[0;34m(self, message)\u001b[0m\n\u001b[1;32m     46\u001b[0m     \u001b[0;32mdef\u001b[0m \u001b[0mon_parser_error\u001b[0m\u001b[0;34m(\u001b[0m\u001b[0mself\u001b[0m\u001b[0;34m,\u001b[0m \u001b[0mmessage\u001b[0m\u001b[0;34m)\u001b[0m\u001b[0;34m:\u001b[0m\u001b[0;34m\u001b[0m\u001b[0;34m\u001b[0m\u001b[0m\n\u001b[1;32m     47\u001b[0m         \u001b[0;31m# ToDo: display parsing context here\u001b[0m\u001b[0;34m\u001b[0m\u001b[0;34m\u001b[0m\u001b[0;34m\u001b[0m\u001b[0m\n\u001b[0;32m---> 48\u001b[0;31m         \u001b[0;32mraise\u001b[0m \u001b[0mself\u001b[0m\u001b[0;34m.\u001b[0m\u001b[0mexception_class\u001b[0m\u001b[0;34m(\u001b[0m\u001b[0mmessage\u001b[0m\u001b[0;34m)\u001b[0m\u001b[0;34m\u001b[0m\u001b[0;34m\u001b[0m\u001b[0m\n\u001b[0m\u001b[1;32m     49\u001b[0m \u001b[0;34m\u001b[0m\u001b[0m\n\u001b[1;32m     50\u001b[0m     \u001b[0;32mdef\u001b[0m \u001b[0mspaces\u001b[0m\u001b[0;34m(\u001b[0m\u001b[0mself\u001b[0m\u001b[0;34m)\u001b[0m\u001b[0;34m:\u001b[0m\u001b[0;34m\u001b[0m\u001b[0;34m\u001b[0m\u001b[0m\n",
            "\u001b[0;31mParserException\u001b[0m: No PDF header found"
          ]
        }
      ]
    },
    {
      "cell_type": "markdown",
      "source": [
        "got an problem when loading the pdf\n",
        "\n",
        "\n",
        "**!! Help me out**"
      ],
      "metadata": {
        "id": "LdXhd76wcKRv"
      }
    },
    {
      "cell_type": "code",
      "source": [
        ""
      ],
      "metadata": {
        "id": "Nwy5YZEtQcUv"
      },
      "execution_count": null,
      "outputs": []
    }
  ]
}