{
  "nbformat": 4,
  "nbformat_minor": 0,
  "metadata": {
    "colab": {
      "name": "10_Problem_Solution.ipynb",
      "provenance": [],
      "include_colab_link": true
    },
    "kernelspec": {
      "name": "python3",
      "display_name": "Python 3"
    },
    "language_info": {
      "name": "python"
    }
  },
  "cells": [
    {
      "cell_type": "markdown",
      "metadata": {
        "id": "view-in-github",
        "colab_type": "text"
      },
      "source": [
        "<a href=\"https://colab.research.google.com/github/arunkumarpallala/fmml2021/blob/main/10_Problem_Solution.ipynb\" target=\"_parent\"><img src=\"https://colab.research.google.com/assets/colab-badge.svg\" alt=\"Open In Colab\"/></a>"
      ]
    },
    {
      "cell_type": "code",
      "metadata": {
        "id": "4tHdnVmZSQIR"
      },
      "source": [
        "# Madagascar problem"
      ],
      "execution_count": null,
      "outputs": []
    },
    {
      "cell_type": "code",
      "metadata": {
        "id": "KkTnYRbjSZ4g"
      },
      "source": [
        "import numpy as np"
      ],
      "execution_count": 1,
      "outputs": []
    },
    {
      "cell_type": "code",
      "metadata": {
        "id": "vbsZHOPVSbYh",
        "outputId": "4ac850b3-1cb3-4053-d99b-02ecc6554df0",
        "colab": {
          "base_uri": "https://localhost:8080/"
        }
      },
      "source": [
        "A = np.array([[20, 122, 20], [35,180, 35],[50, 220, 65], [70, 300, 30]])\n",
        "x = np.array([[0.05], [0.002], [0.02]])\n",
        "print(A)\n",
        "print(\"==========\")\n",
        "print(x)"
      ],
      "execution_count": 15,
      "outputs": [
        {
          "output_type": "stream",
          "name": "stdout",
          "text": [
            "[[ 20 122  20]\n",
            " [ 35 180  35]\n",
            " [ 50 220  65]\n",
            " [ 70 300  30]]\n",
            "==========\n",
            "[[0.05 ]\n",
            " [0.002]\n",
            " [0.02 ]]\n"
          ]
        }
      ]
    },
    {
      "cell_type": "code",
      "metadata": {
        "id": "4CvxUBB8U0PA",
        "outputId": "503214dc-b01c-4b57-d746-7d965aac7330",
        "colab": {
          "base_uri": "https://localhost:8080/"
        }
      },
      "source": [
        "# 4x3 . 3x1 = 4x1\n",
        "y = np.matmul(A,x)\n",
        "print(y)"
      ],
      "execution_count": 21,
      "outputs": [
        {
          "output_type": "stream",
          "name": "stdout",
          "text": [
            "[[1.644]\n",
            " [2.81 ]\n",
            " [4.24 ]\n",
            " [4.7  ]]\n"
          ]
        }
      ]
    },
    {
      "cell_type": "code",
      "metadata": {
        "id": "PSJBzTZzSdzT",
        "outputId": "cfea6539-efdf-4f5c-b0aa-eb1d176a0ae7",
        "colab": {
          "base_uri": "https://localhost:8080/"
        }
      },
      "source": [
        "y = np.matmul(A,x) - 4.0\n",
        "print(y)"
      ],
      "execution_count": 22,
      "outputs": [
        {
          "output_type": "stream",
          "name": "stdout",
          "text": [
            "[[-2.356]\n",
            " [-1.19 ]\n",
            " [ 0.24 ]\n",
            " [ 0.7  ]]\n"
          ]
        }
      ]
    },
    {
      "cell_type": "code",
      "metadata": {
        "id": "Um0CIsH1VJPi"
      },
      "source": [
        "Z = np.hstack((A,y))"
      ],
      "execution_count": 30,
      "outputs": []
    },
    {
      "cell_type": "code",
      "metadata": {
        "id": "Oryf-5goVTxG",
        "outputId": "ae1884ee-b087-44fa-ff8f-67bcd512dcdb",
        "colab": {
          "base_uri": "https://localhost:8080/"
        }
      },
      "source": [
        "Z"
      ],
      "execution_count": 28,
      "outputs": [
        {
          "output_type": "execute_result",
          "data": {
            "text/plain": [
              "array([[ 2.000e+01,  1.220e+02,  2.000e+01, -2.356e+00],\n",
              "       [ 3.500e+01,  1.800e+02,  3.500e+01, -1.190e+00],\n",
              "       [ 5.000e+01,  2.200e+02,  6.500e+01,  2.400e-01],\n",
              "       [ 7.000e+01,  3.000e+02,  3.000e+01,  7.000e-01]])"
            ]
          },
          "metadata": {},
          "execution_count": 28
        }
      ]
    },
    {
      "cell_type": "code",
      "metadata": {
        "id": "vQt6XMT8ViYW"
      },
      "source": [
        "def RankArray(A,x):\n",
        "  y = np.dot(A,x) - 4.0\n",
        "  L = np.hstack((A,y))\n",
        "  return L"
      ],
      "execution_count": 19,
      "outputs": []
    },
    {
      "cell_type": "code",
      "metadata": {
        "id": "6VqMLbRWVwL3",
        "outputId": "653f8cc5-c7ad-4aaa-fb64-7c1873ee9cc6",
        "colab": {
          "base_uri": "https://localhost:8080/"
        }
      },
      "source": [
        "print (RankArray(A,x))"
      ],
      "execution_count": 20,
      "outputs": [
        {
          "output_type": "stream",
          "name": "stdout",
          "text": [
            "[[ 2.000e+01  1.220e+02  2.000e+01 -2.356e+00]\n",
            " [ 3.500e+01  1.800e+02  3.500e+01 -1.190e+00]\n",
            " [ 5.000e+01  2.200e+02  6.500e+01  2.400e-01]\n",
            " [ 7.000e+01  3.000e+02  3.000e+01  7.000e-01]]\n"
          ]
        }
      ]
    },
    {
      "cell_type": "code",
      "metadata": {
        "id": "vwUsl7d57X9f",
        "outputId": "6585b579-9ac9-4291-ddfa-5ef5d8672650",
        "colab": {
          "base_uri": "https://localhost:8080/"
        }
      },
      "source": [
        "import numpy as np\n",
        "a = np.array([[1,2],[2,3]])\n",
        "b = np.array(([8,4],[4,7]))\n",
        "print(a,\"\\n\",b)\n",
        "c=np.dot(a,b)\n",
        "print(\"---------------\")\n",
        "print(c)\n",
        "c1=np.matmul(a,b)\n",
        "print(\"---------------\")\n",
        "print(c1)\n",
        "c2=4*np.dot(a,b)\n",
        "print(\"---------------\")\n",
        "print(c2)\n",
        "c3=4*np.matmul(a,b)\n",
        "print(\"---------------\")\n",
        "print(c3)\n"
      ],
      "execution_count": 13,
      "outputs": [
        {
          "output_type": "stream",
          "name": "stdout",
          "text": [
            "[[1 2]\n",
            " [2 3]] \n",
            " [[8 4]\n",
            " [4 7]]\n",
            "---------------\n",
            "[[16 18]\n",
            " [28 29]]\n",
            "---------------\n",
            "[[16 18]\n",
            " [28 29]]\n",
            "---------------\n",
            "[[ 64  72]\n",
            " [112 116]]\n",
            "---------------\n",
            "[[ 64  72]\n",
            " [112 116]]\n"
          ]
        }
      ]
    },
    {
      "cell_type": "code",
      "metadata": {
        "id": "WfvUZpyl7YtY"
      },
      "source": [
        ""
      ],
      "execution_count": null,
      "outputs": []
    }
  ]
}